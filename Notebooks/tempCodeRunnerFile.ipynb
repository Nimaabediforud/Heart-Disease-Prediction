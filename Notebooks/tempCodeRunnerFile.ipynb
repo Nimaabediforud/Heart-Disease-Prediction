# Correlation Analysis Script
#-----------------------------

# 1. Identify column types
# -----------------------------
numeric_features = num_cols.columns.tolist()
categorical_features = cat_cols.columns.tolist()

target_col = "HeartDisease" 
if target_col in numeric_features:
    numeric_features.remove(target_col)
if target_col in categorical_features:
    categorical_features.remove(target_col)

# 2. Numeric ↔ Numeric (Pearson)
# -----------------------------
plt.figure(figsize=(8,6))
corr = data[numeric_features].corr(method='pearson')
sns.heatmap(corr, annot=True, cmap="coolwarm")
plt.title("Numeric ↔ Numeric Correlation (Pearson)")
plt.show()


# 3. Categorical ↔ Categorical (Cramér's V)
# -----------------------------
def cramers_v(x, y):
    confusion_matrix = pd.crosstab(x, y)
    chi2 = chi2_contingency(confusion_matrix)[0]
    n = confusion_matrix.sum().sum()
    phi2 = chi2/n
    r, k = confusion_matrix.shape
    phi2corr = max(0, phi2 - ((k-1)*(r-1))/(n-1))
    rcorr = r - ((r-1)**2)/(n-1)
    kcorr = k - ((k-1)**2)/(n-1)
    return np.sqrt(phi2corr / min((kcorr-1), (rcorr-1)))

# Pairwise Cramér's V matrix
cramer_results = pd.DataFrame(index=categorical_features, columns=categorical_features)
for col1 in categorical_features:
    for col2 in categorical_features:
        cramer_results.loc[col1,col2] = cramers_v(data[col1], data[col2])

plt.figure(figsize=(8,6))
sns.heatmap(cramer_results.astype(float), annot=True, cmap="YlGnBu")
plt.title("Categorical ↔ Categorical Association (Cramér's V)")
plt.show()

# 4. Feature ↔ Target
# -----------------------------

fig, axes = plt.subplots(2, 1, figsize=(12, 4), gridspec_kw={'height_ratios':[1,1]})

# numeric → target (signed)
num_corr = {c: pointbiserialr(data[c], data[target_col])[0] for c in numeric_features}
num_df = pd.DataFrame.from_dict(num_corr, orient='index', columns=['r']).T